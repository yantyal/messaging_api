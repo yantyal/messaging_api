{
 "cells": [
  {
   "cell_type": "code",
   "execution_count": 46,
   "metadata": {},
   "outputs": [],
   "source": [
    "import json\n",
    "import random\n",
    "info = dict()\n",
    "with open('info.json', 'r') as file:\n",
    "    info = json.load(file)\n",
    "from linebot import LineBotApi\n",
    "from linebot.models import TextSendMessage\n",
    "CHANNEL_ACCESS_TOKEN = info['CHANNEL_ACCESS_TOKEN']\n",
    "line_bot_api = LineBotApi(CHANNEL_ACCESS_TOKEN)"
   ]
  },
  {
   "cell_type": "code",
   "execution_count": 48,
   "metadata": {},
   "outputs": [],
   "source": [
    "def main():\n",
    "    USER_ID = info['USER_ID']\n",
    "    data = dict()\n",
    "    with open('english.json', mode='rt', encoding='utf-8') as file:\n",
    "        data = json.load(file)\n",
    "    item = random.choice(data['items'])\n",
    "    messages = TextSendMessage(text= item['sentence'])\n",
    "    line_bot_api.push_message(USER_ID, messages=messages)\n",
    "\n",
    "if __name__ == \"__main__\":\n",
    "    main()\n"
   ]
  },
  {
   "cell_type": "code",
   "execution_count": null,
   "metadata": {},
   "outputs": [],
   "source": []
  },
  {
   "cell_type": "code",
   "execution_count": 35,
   "metadata": {},
   "outputs": [
    {
     "name": "stdout",
     "output_type": "stream",
     "text": [
      "********** JSONファイルを書き出す **********\n",
      "{\n",
      "  \"items\": [\n",
      "    {\n",
      "      \"word\": \"quote\",\n",
      "      \"sentence\": \"I know I should be careful if someone quotes Pascal\"\n",
      "    }\n",
      "  ]\n",
      "}\n"
     ]
    }
   ],
   "source": [
    "import json\n",
    "\n",
    "\n",
    "print('********** JSONファイルを書き出す **********')\n",
    "\n",
    "# 辞書オブジェクト(dictionary)を生成\n",
    "data = dict()\n",
    "word = 'quote'\n",
    "sentence = 'I know I should be careful if someone quotes Pascal'\n",
    "sentences = []\n",
    "sentences.append([word, sentence])\n",
    "data['items'] = []\n",
    "for word, sentence in sentences:\n",
    "  temporary = {'word': word, 'sentence': sentence}\n",
    "  data['items'].append(temporary)\n",
    "\n",
    "\n",
    "# 辞書オブジェクトをstr型で取得して出力\n",
    "print(json.dumps(data, ensure_ascii=False, indent=2))\n",
    "\n",
    "# 辞書オブジェクトをJSONファイルへ出力\n",
    "with open('english.json', mode='wt', encoding='utf-8') as file:\n",
    "  json.dump(data, file, ensure_ascii=False, indent=2)"
   ]
  },
  {
   "cell_type": "code",
   "execution_count": 16,
   "metadata": {},
   "outputs": [
    {
     "name": "stdout",
     "output_type": "stream",
     "text": [
      "********** JSONファイルを読み込む **********\n",
      "file: <_io.TextIOWrapper name='english.json' mode='rt' encoding='utf-8'>\n",
      "data: <class 'dict'>\n",
      "aaa bbb\n",
      "ccc ddd\n"
     ]
    }
   ],
   "source": [
    "import json\n",
    "\n",
    "print('********** JSONファイルを読み込む **********')\n",
    "\n",
    "# JSONファイルからテキストストリームを生成\n",
    "with open('english.json', mode='rt', encoding='utf-8') as file:\n",
    "  print('file: ' + str(file))\n",
    "\n",
    "  # 辞書オブジェクト(dictionary)を取得\n",
    "  data = json.load(file)\n",
    "  print('data: ' + str(type(data)))\n",
    "\n",
    "  # JSONデータから必要な箇所を出力\n",
    "  for member in data['items']:\n",
    "    print(member['word'], member['sentence'])"
   ]
  },
  {
   "cell_type": "code",
   "execution_count": 18,
   "metadata": {},
   "outputs": [],
   "source": [
    "catalog = []\n",
    "catalog.append(dict(name='sweater',price=1980))"
   ]
  },
  {
   "cell_type": "code",
   "execution_count": 19,
   "metadata": {},
   "outputs": [
    {
     "data": {
      "text/plain": [
       "[{'name': 'sweater', 'price': 1980}]"
      ]
     },
     "execution_count": 19,
     "metadata": {},
     "output_type": "execute_result"
    }
   ],
   "source": [
    "catalog"
   ]
  },
  {
   "cell_type": "code",
   "execution_count": 20,
   "metadata": {},
   "outputs": [],
   "source": [
    "catalog.append(dict(name='can', price=200))"
   ]
  },
  {
   "cell_type": "code",
   "execution_count": 21,
   "metadata": {},
   "outputs": [
    {
     "data": {
      "text/plain": [
       "[{'name': 'sweater', 'price': 1980}, {'name': 'can', 'price': 200}]"
      ]
     },
     "execution_count": 21,
     "metadata": {},
     "output_type": "execute_result"
    }
   ],
   "source": [
    "catalog"
   ]
  },
  {
   "cell_type": "code",
   "execution_count": 23,
   "metadata": {},
   "outputs": [
    {
     "name": "stdout",
     "output_type": "stream",
     "text": [
      "sweater : 1980\n",
      "can : 200\n"
     ]
    }
   ],
   "source": [
    "for row in catalog:\n",
    "    print(row['name'],':', row['price'])"
   ]
  },
  {
   "cell_type": "code",
   "execution_count": 33,
   "metadata": {},
   "outputs": [
    {
     "name": "stdout",
     "output_type": "stream",
     "text": [
      "<class 'dict'>\n"
     ]
    }
   ],
   "source": [
    "import json\n",
    "# data = []\n",
    "with open('english.json', 'r', encoding='utf-8') as read_file:\n",
    "    data = json.load(read_file)\n",
    "    print(type(data))\n",
    "# word = input('word:')\n",
    "# sentence = input('sentence:')\n",
    "# data.append(dict(word=word, sentence=sentence))\n",
    "with open('english.json', 'w', encoding='utf-8') as write_file:\n",
    "    json.dump(data, write_file, indent=2)"
   ]
  },
  {
   "cell_type": "code",
   "execution_count": null,
   "metadata": {},
   "outputs": [],
   "source": []
  },
  {
   "cell_type": "code",
   "execution_count": 38,
   "metadata": {},
   "outputs": [
    {
     "name": "stdout",
     "output_type": "stream",
     "text": [
      "********** JSONファイルを書き出す **********\n",
      "file: <_io.TextIOWrapper name='mydata.json' mode='rt' encoding='utf-8'>\n",
      "{\n",
      "  \"message\": \"Hello, world.\",\n",
      "  \"members\": [\n",
      "    {\n",
      "      \"name\": \"アリス\",\n",
      "      \"color\": \"#FA3E05\"\n",
      "    },\n",
      "    {\n",
      "      \"name\": \"ボブ\",\n",
      "      \"color\": \"#FFFFAA\"\n",
      "    },\n",
      "    {\n",
      "      \"name\": \"aaa\",\n",
      "      \"color\": \"red\"\n",
      "    },\n",
      "    {\n",
      "      \"name\": \"aaa\",\n",
      "      \"color\": \"red\"\n",
      "    }\n",
      "  ]\n",
      "}\n",
      "********** JSONファイルを読み込む **********\n",
      "file: <_io.TextIOWrapper name='mydata.json' mode='rt' encoding='utf-8'>\n",
      "data: <class 'dict'>\n",
      "message: Hello, world.\n",
      "アリス: #FA3E05\n",
      "ボブ: #FFFFAA\n",
      "aaa: red\n",
      "aaa: red\n"
     ]
    }
   ],
   "source": [
    "import json\n",
    "\n",
    "\n",
    "print('********** JSONファイルを書き出す **********')\n",
    "\n",
    "# 辞書オブジェクト(dictionary)を生成\n",
    "data = dict()\n",
    "data['message'] = 'Hello, world.'\n",
    "with open('mydata.json', mode='rt', encoding='utf-8') as file:\n",
    "  print('file: ' + str(file))\n",
    "\n",
    "  # 辞書オブジェクト(dictionary)を取得\n",
    "  data = json.load(file)\n",
    "data['members'].append(dict(name='aaa', color='red'))\n",
    "# 辞書オブジェクトをstr型で取得して出力\n",
    "print(json.dumps(data, ensure_ascii=False, indent=2))\n",
    "\n",
    "# 辞書オブジェクトをJSONファイルへ出力\n",
    "with open('mydata.json', mode='wt', encoding='utf-8') as file:\n",
    "  json.dump(data, file, ensure_ascii=False, indent=2)\n",
    "\n",
    "\n",
    "print('********** JSONファイルを読み込む **********')\n",
    "\n",
    "# JSONファイルからテキストストリームを生成\n",
    "with open('mydata.json', mode='rt', encoding='utf-8') as file:\n",
    "  print('file: ' + str(file))\n",
    "\n",
    "  # 辞書オブジェクト(dictionary)を取得\n",
    "  data = json.load(file)\n",
    "  print('data: ' + str(type(data)))\n",
    "\n",
    "  # JSONデータから必要な箇所を出力\n",
    "  print('message: ' + data['message'])\n",
    "  for member in data['members']:\n",
    "    print(member['name'] + ': ' + member['color'])"
   ]
  },
  {
   "cell_type": "code",
   "execution_count": 41,
   "metadata": {},
   "outputs": [],
   "source": [
    "# english.jsonにdataを入力\n",
    "\n",
    "import json\n",
    "\n",
    "data = dict()\n",
    "with open('english.json', mode='rt', encoding='utf-8') as file:\n",
    "  data = json.load(file)\n",
    "\n",
    "word = input('word:')\n",
    "sentence = input('sentence:')\n",
    "\n",
    "data['items'].append(dict(word=word, sentence=sentence))\n",
    "\n",
    "with open('english.json', mode='wt', encoding='utf-8') as file:\n",
    "  json.dump(data, file, ensure_ascii=False, indent=2)"
   ]
  },
  {
   "cell_type": "code",
   "execution_count": null,
   "metadata": {},
   "outputs": [],
   "source": []
  }
 ],
 "metadata": {
  "interpreter": {
   "hash": "ce74bea9ce7c0fb9450ce6836063c3ea1517a4aeeb742bab7dd6685e9ea4ec2a"
  },
  "kernelspec": {
   "display_name": "Python 3.8.2 32-bit",
   "language": "python",
   "name": "python3"
  },
  "language_info": {
   "codemirror_mode": {
    "name": "ipython",
    "version": 3
   },
   "file_extension": ".py",
   "mimetype": "text/x-python",
   "name": "python",
   "nbconvert_exporter": "python",
   "pygments_lexer": "ipython3",
   "version": "3.8.2"
  },
  "orig_nbformat": 4
 },
 "nbformat": 4,
 "nbformat_minor": 2
}
